{
 "cells": [
  {
   "cell_type": "code",
   "execution_count": 1,
   "id": "3d9af09e-53d8-42c1-8aa9-103f954476f5",
   "metadata": {},
   "outputs": [],
   "source": [
    "%load_ext autoreload\n",
    "%autoreload 2"
   ]
  },
  {
   "cell_type": "code",
   "execution_count": 2,
   "id": "a5745ca4-de30-4abf-b333-d4d4b3216c08",
   "metadata": {},
   "outputs": [],
   "source": [
    "import sys\n",
    "import numpy as np\n",
    "import matplotlib.pyplot as plt\n",
    "\n",
    "# Path to SledgeHAMR top directory\n",
    "sys.path.append('../../')\n",
    "import pySledgehamr as sh"
   ]
  },
  {
   "cell_type": "markdown",
   "id": "92aec548-4cc4-4801-82f7-2150deb41f9e",
   "metadata": {},
   "source": [
    "### Create Initial State"
   ]
  },
  {
   "cell_type": "code",
   "execution_count": 3,
   "id": "29154b42-53a8-4e22-93d4-37069d98efcf",
   "metadata": {},
   "outputs": [],
   "source": [
    "strings = sh.AxionStrings()\n",
    "#strings.CreateInitialState(L=23, N=128, k_max=5, t_start=0.1, output_file='initial_state.hdf5') "
   ]
  },
  {
   "cell_type": "markdown",
   "id": "9f6971a8-3720-4b9b-b9f6-ea4674208f46",
   "metadata": {},
   "source": [
    "### Read Output"
   ]
  },
  {
   "cell_type": "code",
   "execution_count": 4,
   "id": "2c293236-0f8c-4118-8436-17ee8ad8f918",
   "metadata": {},
   "outputs": [
    {
     "name": "stdout",
     "output_type": "stream",
     "text": [
      "Number of slices found: 5\n",
      "Number of coarse boxes found: 5\n",
      "Number of full boxes found: 5\n",
      "\n",
      "Slices written at t =\t\t [0.13515625 0.6625     1.18984375 1.7171875  2.24453125]\n",
      "Coarse boxes written at t =\t [0.13515625 0.6625     1.18984375 1.7171875  2.24453125]\n",
      "Full boxes written at t =\t [0.13515625 0.6625     1.18984375 1.7171875  2.24453125]\n"
     ]
    }
   ],
   "source": [
    "out = sh.Output('output')\n",
    "\n",
    "print()\n",
    "\n",
    "times = out.GetTimesOfSlices()\n",
    "print('Slices written at t =\\t\\t', times)\n",
    "\n",
    "times = out.GetTimesOfCoarseBoxes()\n",
    "print('Coarse boxes written at t =\\t', times)\n",
    "\n",
    "times = out.GetTimesOfFullBoxes()\n",
    "print('Full boxes written at t =\\t', times)"
   ]
  },
  {
   "cell_type": "markdown",
   "id": "8fc25c74-be35-4d8c-b612-2cde900d3490",
   "metadata": {},
   "source": [
    "## Plot Slice"
   ]
  },
  {
   "cell_type": "code",
   "execution_count": null,
   "id": "6978c467-6a30-431c-b1e3-c33431a47a8e",
   "metadata": {},
   "outputs": [],
   "source": [
    "# id of slice to be plotted\n",
    "i = 4\n",
    "lev = 1\n",
    "\n",
    "# Read a slice along the x-axis.\n",
    "slices = out.GetSlice(i, 'x', lev, ['Psi1', 'Psi2'])\n",
    "t = slices['t']\n",
    "print('t='+str(t))\n",
    "\n",
    "axion = np.arctan2(slices['Psi2'], slices['Psi1'])\n",
    "radial_mode = np.sqrt(slices['Psi1']**2 + slices['Psi2']**2)\n",
    "\n",
    "strings.PlotAxionAndRadialModeSlice(axion, radial_mode)"
   ]
  },
  {
   "cell_type": "markdown",
   "id": "7f54b1b0-f995-4bbb-8ca2-c98dd6e57fcd",
   "metadata": {},
   "source": [
    "## Load coarse box and plot a slice."
   ]
  },
  {
   "cell_type": "code",
   "execution_count": null,
   "id": "c8df1838-581f-4d55-b36d-9d09436a20f1",
   "metadata": {},
   "outputs": [],
   "source": [
    "# Id of coarse box to be plotted\n",
    "i = 4\n",
    "\n",
    "# Read coarse box and grab a slice.\n",
    "coarse_box = out.GetCoarseBox(i, ['Psi1', 'Psi2'])\n",
    "t = coarse_box['t']\n",
    "print('t='+str(t))\n",
    "\n",
    "axion = np.arctan2(coarse_box['Psi2'][:,:,0], coarse_box['Psi1'][:,:,0])\n",
    "radial_mode = np.sqrt(coarse_box['Psi1'][:,:,0]**2 + coarse_box['Psi2'][:,:,0]**2)\n",
    "\n",
    "strings.PlotAxionAndRadialModeSlice(axion, radial_mode)"
   ]
  },
  {
   "cell_type": "markdown",
   "id": "0ffc960e-53d7-4d47-b30f-ba5d1d14cbcf",
   "metadata": {},
   "source": [
    "## Load a full box (at a finer level) and plot a slice."
   ]
  },
  {
   "cell_type": "code",
   "execution_count": null,
   "id": "bacfcafc-51f4-4e72-8fee-0891050bc236",
   "metadata": {},
   "outputs": [],
   "source": [
    "# Id of coarse box to be plotted\n",
    "i = 3\n",
    "level = 1\n",
    "\n",
    "# Read coarse box and grab a slice. This output has been downsampled (see output.full_box_downsample_factor = 2)\n",
    "full_box = out.GetFullBox(i, level, ['Psi1', 'Psi2'])\n",
    "t = full_box['t']\n",
    "print('t='+str(t))\n",
    "\n",
    "axion = np.arctan2(full_box['Psi2'][:,:,0], full_box['Psi1'][:,:,0])\n",
    "radial_mode = np.sqrt(full_box['Psi1'][:,:,0]**2 + full_box['Psi2'][:,:,0]**2)\n",
    "\n",
    "strings.PlotAxionAndRadialModeSlice(axion, radial_mode)"
   ]
  },
  {
   "cell_type": "code",
   "execution_count": null,
   "id": "c6114312-c273-475a-80ab-d868999307e6",
   "metadata": {},
   "outputs": [],
   "source": []
  },
  {
   "cell_type": "code",
   "execution_count": null,
   "id": "2690abdc-1f86-4b19-b208-a3f2a1b07859",
   "metadata": {},
   "outputs": [],
   "source": []
  }
 ],
 "metadata": {
  "kernelspec": {
   "display_name": "NERSC Python",
   "language": "python",
   "name": "python3"
  },
  "language_info": {
   "codemirror_mode": {
    "name": "ipython",
    "version": 3
   },
   "file_extension": ".py",
   "mimetype": "text/x-python",
   "name": "python",
   "nbconvert_exporter": "python",
   "pygments_lexer": "ipython3",
   "version": "3.9.7"
  }
 },
 "nbformat": 4,
 "nbformat_minor": 5
}

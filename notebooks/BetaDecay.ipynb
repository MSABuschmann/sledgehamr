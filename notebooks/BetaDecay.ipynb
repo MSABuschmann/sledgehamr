{
 "cells": [
  {
   "cell_type": "code",
   "execution_count": 15,
   "id": "a5745ca4-de30-4abf-b333-d4d4b3216c08",
   "metadata": {},
   "outputs": [],
   "source": [
    "import sys\n",
    "import numpy as np\n",
    "import matplotlib.pyplot as plt\n",
    "from matplotlib import rc\n",
    "from matplotlib import rcParams\n",
    "import h5py\n",
    "rc('font', **{'family': 'serif', 'serif': ['Computer Modern']})\n",
    "rcParams['text.usetex'] = True\n",
    "\n",
    "# Path to sledgehamr top directory\n",
    "sys.path.append('../../sledgehamr')\n",
    "import pySledgehamr as sledgehamr\n",
    "\n",
    "exec_dir = \"../examples/beta_decay/\""
   ]
  },
  {
   "cell_type": "markdown",
   "id": "92aec548-4cc4-4801-82f7-2150deb41f9e",
   "metadata": {},
   "source": [
    "# Step 1: Create Initial State"
   ]
  },
  {
   "cell_type": "code",
   "execution_count": 17,
   "id": "29154b42-53a8-4e22-93d4-37069d98efcf",
   "metadata": {},
   "outputs": [],
   "source": [
    "N = 64\n",
    "output = np.empty((N,N,N))\n",
    "i = np.arange(N)\n",
    "output = (i[:, np.newaxis, np.newaxis] + i[np.newaxis, :, np.newaxis] + i[np.newaxis, np.newaxis, :]) / (N - 1)\n",
    "\n",
    "archive = h5py.File(exec_dir+'initial_state_64.hdf5', 'w')\n",
    "archive.create_dataset(\"data\", data=output)\n",
    "archive.close()"
   ]
  },
  {
   "cell_type": "code",
   "execution_count": null,
   "id": "f87b81ed-6c8e-495b-aa64-f1bdc0ca950a",
   "metadata": {},
   "outputs": [],
   "source": []
  }
 ],
 "metadata": {
  "kernelspec": {
   "display_name": "NERSC Python",
   "language": "python",
   "name": "python3"
  },
  "language_info": {
   "codemirror_mode": {
    "name": "ipython",
    "version": 3
   },
   "file_extension": ".py",
   "mimetype": "text/x-python",
   "name": "python",
   "nbconvert_exporter": "python",
   "pygments_lexer": "ipython3",
   "version": "3.11.7"
  }
 },
 "nbformat": 4,
 "nbformat_minor": 5
}

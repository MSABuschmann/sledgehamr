{
 "cells": [
  {
   "cell_type": "markdown",
   "id": "b19057e7-4490-4a9c-9e1d-7780c14c8cde",
   "metadata": {
    "tags": []
   },
   "source": [
    "### Pre-compute all unique $k$ values needed for the computation of (gravitional wave) spectra.\n",
    "\n",
    "To compute (unbinned) spectra sledgehamr will need to know all unique $k$ values in advance before running the simulation. These values are stored in a file within the 'data' directory which by default already contains values for a few different grid sizes (the number of unique $k$ values depends on the number of coarse level grid cells). For larger grids, however, you will need to precompute them yourself using the script below. This is necessary as otherwise the file would be too large for a github repo (~Gb). This computation needs to be done only once for of a given number of coarse level grid cells."
   ]
  },
  {
   "cell_type": "code",
   "execution_count": 1,
   "id": "a9e9c257-6ebc-4276-adb7-e6e5c266b780",
   "metadata": {
    "tags": []
   },
   "outputs": [],
   "source": [
    "import sys\n",
    "sledgehamr_dir = '../.'\n",
    "sys.path.append(sledgehamr_dir)\n",
    "\n",
    "import pySledgehamr as sledgehamr"
   ]
  },
  {
   "cell_type": "code",
   "execution_count": 2,
   "id": "3564bc52-3595-4941-8363-2f160ba49729",
   "metadata": {
    "tags": []
   },
   "outputs": [
    {
     "name": "stdout",
     "output_type": "stream",
     "text": [
      "Binning already exists in file.\n"
     ]
    }
   ],
   "source": [
    "data_dir = sledgehamr_dir + '/data'\n",
    "coarse_level_cells = 256\n",
    "sledgehamr.CreateSpectrumBins(data_dir, coarse_level_cells)"
   ]
  }
 ],
 "metadata": {
  "kernelspec": {
   "display_name": "NERSC Python",
   "language": "python",
   "name": "python3"
  },
  "language_info": {
   "codemirror_mode": {
    "name": "ipython",
    "version": 3
   },
   "file_extension": ".py",
   "mimetype": "text/x-python",
   "name": "python",
   "nbconvert_exporter": "python",
   "pygments_lexer": "ipython3",
   "version": "3.11.6"
  }
 },
 "nbformat": 4,
 "nbformat_minor": 5
}

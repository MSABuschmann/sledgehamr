{
 "cells": [
  {
   "cell_type": "code",
   "execution_count": 1,
   "id": "3d9af09e-53d8-42c1-8aa9-103f954476f5",
   "metadata": {},
   "outputs": [],
   "source": [
    "%load_ext autoreload\n",
    "%autoreload 2"
   ]
  },
  {
   "cell_type": "code",
   "execution_count": 2,
   "id": "a5745ca4-de30-4abf-b333-d4d4b3216c08",
   "metadata": {},
   "outputs": [],
   "source": [
    "import sys\n",
    "import numpy as np\n",
    "\n",
    "# Path to SledgeHAMR top directory\n",
    "sys.path.append('../../')\n",
    "import pySledgeHAMR as sh"
   ]
  },
  {
   "cell_type": "code",
   "execution_count": 3,
   "id": "2c293236-0f8c-4118-8436-17ee8ad8f918",
   "metadata": {},
   "outputs": [
    {
     "name": "stdout",
     "output_type": "stream",
     "text": [
      "Number of slices found:  2\n",
      "[0.2078125 0.4234375]\n"
     ]
    }
   ],
   "source": [
    "out = sh.Output('output')\n",
    "out.GetTimesOfSlices()\n",
    "slices = out.GetSlices(1, 'x', 0, ['Psi1', 'Psi2'])"
   ]
  },
  {
   "cell_type": "code",
   "execution_count": 4,
   "id": "67a2a588-b339-4c43-acad-e952b019b7d1",
   "metadata": {},
   "outputs": [],
   "source": [
    "t = slices['t']\n",
    "axion = np.arctan2(slices['Psi2'], slices['Psi1'])\n",
    "radial_mode = np.sqrt(slices['Psi1']**2 + slices['Psi2']**2)"
   ]
  },
  {
   "cell_type": "code",
   "execution_count": null,
   "id": "81e3f5ce-aef8-4bd2-bcc4-c623ec5e2886",
   "metadata": {},
   "outputs": [],
   "source": []
  }
 ],
 "metadata": {
  "kernelspec": {
   "display_name": "NERSC Python",
   "language": "python",
   "name": "python3"
  },
  "language_info": {
   "codemirror_mode": {
    "name": "ipython",
    "version": 3
   },
   "file_extension": ".py",
   "mimetype": "text/x-python",
   "name": "python",
   "nbconvert_exporter": "python",
   "pygments_lexer": "ipython3",
   "version": "3.9.7"
  }
 },
 "nbformat": 4,
 "nbformat_minor": 5
}
